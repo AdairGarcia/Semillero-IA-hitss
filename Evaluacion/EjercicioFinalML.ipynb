{
  "nbformat": 4,
  "nbformat_minor": 0,
  "metadata": {
    "colab": {
      "provenance": [],
      "authorship_tag": "ABX9TyPDUuyXjiEwZB1Vfy5P0yL3",
      "include_colab_link": true
    },
    "kernelspec": {
      "name": "python3",
      "display_name": "Python 3"
    },
    "language_info": {
      "name": "python"
    }
  },
  "cells": [
    {
      "cell_type": "markdown",
      "metadata": {
        "id": "view-in-github",
        "colab_type": "text"
      },
      "source": [
        "<a href=\"https://colab.research.google.com/github/AdairGarcia/Semillero-IA-hitss/blob/main/Evaluacion/EjercicioFinalML.ipynb\" target=\"_parent\"><img src=\"https://colab.research.google.com/assets/colab-badge.svg\" alt=\"Open In Colab\"/></a>"
      ]
    },
    {
      "cell_type": "code",
      "source": [
        "from sklearn.model_selection import train_test_split\n",
        "import pandas as pd\n",
        "from sklearn.impute import SimpleImputer\n",
        "from sklearn.preprocessing import StandardScaler, OneHotEncoder\n",
        "from sklearn.compose import ColumnTransformer\n",
        "from sklearn.pipeline import Pipeline\n",
        "from sklearn.metrics import confusion_matrix\n",
        "import numpy as np\n",
        "import matplotlib.pyplot as plt\n",
        "import seaborn as sns\n",
        "from sklearn.pipeline import Pipeline\n",
        "from sklearn.model_selection import RepeatedStratifiedKFold\n",
        "from sklearn.linear_model import LogisticRegression\n",
        "import os\n"
      ],
      "metadata": {
        "id": "nbwCJQDnP-LF"
      },
      "execution_count": 144,
      "outputs": []
    },
    {
      "cell_type": "code",
      "metadata": {
        "colab": {
          "base_uri": "https://localhost:8080/"
        },
        "id": "330c70bb",
        "outputId": "70077205-3fb7-4481-c393-91cbc1205426"
      },
      "source": [
        "# Cargar dataframe\n",
        "extract_path = '/content/south_german_credit_data'\n",
        "data_file_path = os.path.join(extract_path, 'SouthGermanCredit.asc')\n",
        "df = pd.read_csv(data_file_path, delim_whitespace=True)\n",
        "# Cambiar columnas\n",
        "column_names_mapping = {\n",
        "    'laufkont': 'status',\n",
        "    'laufzeit': 'duration',\n",
        "    'moral': 'credit_history',\n",
        "    'verw': 'purpose',\n",
        "    'hoehe': 'amount',\n",
        "    'sparkont': 'savings',\n",
        "    'beszeit': 'employment_duration',\n",
        "    'rate': 'installment_rate',\n",
        "    'famges': 'personal_status_sex',\n",
        "    'buerge': 'other_debtors',\n",
        "    'wohnzeit': 'present_residence',\n",
        "    'verm': 'property',\n",
        "    'alter': 'age',\n",
        "    'weitkred': 'other_installment_plans',\n",
        "    'wohn': 'housing',\n",
        "    'bishkred': 'number_credits',\n",
        "    'beruf': 'job',\n",
        "    'pers': 'people_liable',\n",
        "    'telef': 'telephone',\n",
        "    'gastarb': 'foreign_worker',\n",
        "    'kredit': 'credit_risk'\n",
        "}\n",
        "df.rename(columns=column_names_mapping, inplace=True)\n"
      ],
      "execution_count": 145,
      "outputs": [
        {
          "output_type": "stream",
          "name": "stderr",
          "text": [
            "/tmp/ipython-input-881742315.py:4: FutureWarning: The 'delim_whitespace' keyword in pd.read_csv is deprecated and will be removed in a future version. Use ``sep='\\s+'`` instead\n",
            "  df = pd.read_csv(data_file_path, delim_whitespace=True)\n"
          ]
        }
      ]
    },
    {
      "cell_type": "code",
      "metadata": {
        "colab": {
          "base_uri": "https://localhost:8080/"
        },
        "id": "b3ea6ed7",
        "outputId": "e844d971-c1f3-48fe-f8b1-5a42491f5ab2"
      },
      "source": [
        "# X seran todas las caracteristicas menos el credito\n",
        "X = df.drop('credit_risk', axis=1)\n",
        "# Y es el credito\n",
        "Y = df['credit_risk']\n",
        "\n",
        "X_train, X_test, Y_train, Y_test = train_test_split(X, Y, test_size=0.15, random_state=42)\n",
        "\n",
        "print(\"Dimensiones del conjunto de entrenamiento (X_train, Y_train):\", X_train.shape, Y_train.shape)\n",
        "print(\"Dimensiones del conjunto de prueba (X_test, Y_test):\", X_test.shape, Y_test.shape)"
      ],
      "execution_count": 146,
      "outputs": [
        {
          "output_type": "stream",
          "name": "stdout",
          "text": [
            "Dimensiones del conjunto de entrenamiento (X_train, Y_train): (850, 20) (850,)\n",
            "Dimensiones del conjunto de prueba (X_test, Y_test): (150, 20) (150,)\n"
          ]
        }
      ]
    },
    {
      "cell_type": "code",
      "metadata": {
        "id": "b86c3551"
      },
      "source": [
        "#Categorica\n",
        "categorical_cols = [\n",
        "    'status',\n",
        "    'credit_history',\n",
        "    'purpose',\n",
        "    'savings',\n",
        "    'personal_status_sex',\n",
        "    'other_debtors',\n",
        "    'other_installment_plans',\n",
        "    'housing',\n",
        "]\n",
        "\n",
        "# Ordinal\n",
        "ordinal_cols = [\n",
        "    'employment_duration',\n",
        "    'installment_rate',\n",
        "    'present_residence',\n",
        "    'property',\n",
        "    'number_credits',\n",
        "    'job',\n",
        "]\n",
        "\n",
        "# Numerica\n",
        "quantitative_cols = [\n",
        "    'duration',\n",
        "    'amount',\n",
        "    'age',\n",
        "    'people_liable'\n",
        "]\n",
        "\n",
        "# Binaria\n",
        "binary_cols = [\n",
        "    'telephone',\n",
        "    'foreign_worker'\n",
        "]\n"
      ],
      "execution_count": 147,
      "outputs": []
    },
    {
      "cell_type": "code",
      "metadata": {
        "id": "55581a5c"
      },
      "source": [
        "# Numerica: Mediana para mantener la distribución\n",
        "quantitative_imputer = SimpleImputer(strategy='median')\n",
        "# Categorica: Moda para tener la categoria mas comun\n",
        "categorical_ordinal_binary_imputer = SimpleImputer(strategy='most_frequent')\n",
        "scaler = StandardScaler()\n",
        "# Ordinal y binaria: Moda para mantener el orden y saber el binario mas usado\n",
        "one_hot_encoder = OneHotEncoder(handle_unknown='ignore')\n",
        "\n",
        "preprocessing_steps = {\n",
        "    'quantitative': [('imputer', quantitative_imputer), ('scaler', scaler)],\n",
        "    'categorical': [('imputer', categorical_ordinal_binary_imputer), ('encoder', one_hot_encoder)],\n",
        "    'ordinal': [('imputer', categorical_ordinal_binary_imputer)],\n",
        "    'binary': [('imputer', categorical_ordinal_binary_imputer), ('encoder', one_hot_encoder)]\n",
        "}\n",
        "\n"
      ],
      "execution_count": 148,
      "outputs": []
    },
    {
      "cell_type": "code",
      "metadata": {
        "colab": {
          "base_uri": "https://localhost:8080/"
        },
        "id": "7ac7a3a3",
        "outputId": "0b651e95-eb79-4d27-9ee0-b1767379365a"
      },
      "source": [
        "# Pipelines para las columnas\n",
        "quantitative_pipeline = Pipeline(steps=preprocessing_steps['quantitative'])\n",
        "categorical_pipeline = Pipeline(steps=preprocessing_steps['categorical'])\n",
        "ordinal_pipeline = Pipeline(steps=preprocessing_steps['ordinal'])\n",
        "binary_pipeline = Pipeline(steps=preprocessing_steps['binary'])\n",
        "\n",
        "# Pasar los pipelines a column transformer\n",
        "preprocessor = ColumnTransformer(\n",
        "    transformers=[\n",
        "        ('quantitative', quantitative_pipeline, quantitative_cols),\n",
        "        ('categorical', categorical_pipeline, categorical_cols),\n",
        "        ('ordinal', ordinal_pipeline, ordinal_cols),\n",
        "        ('binary', binary_pipeline, binary_cols)\n",
        "    ],\n",
        "    remainder='drop'\n",
        ")\n",
        "\n",
        "# Datos de entranamiento con los procesos aplicados\n",
        "X_train_transformed = preprocessor.fit_transform(X_train)\n",
        "\n",
        "print(\"X_train_transformed shape:\", X_train_transformed.shape)"
      ],
      "execution_count": 149,
      "outputs": [
        {
          "output_type": "stream",
          "name": "stdout",
          "text": [
            "X_train_transformed shape: (850, 51)\n"
          ]
        }
      ]
    },
    {
      "cell_type": "code",
      "metadata": {
        "id": "e7ebad3d"
      },
      "source": [
        "# Calcula accuracy, precision, recall, f1-score, Gmean\n",
        "\n",
        "def calculate_metrics(y_true, y_pred):\n",
        "    cm = confusion_matrix(y_true, y_pred)\n",
        "\n",
        "    tn, fp, fn, tp = cm.ravel()\n",
        "\n",
        "    accuracy = (tp + tn) / (tp + tn + fp + fn) if (tp + tn + fp + fn) != 0 else 0\n",
        "    precision = tp / (tp + fp) if (tp + fp) != 0 else 0\n",
        "    recall = tp / (tp + fn) if (tp + fn) != 0 else 0\n",
        "    f1 = 2 * (precision * recall) / (precision + recall) if (precision + recall) != 0 else 0\n",
        "    specificity = tn / (tn + fp) if (tn + fp) != 0 else 0\n",
        "    gmean = np.sqrt(recall * specificity) if recall * specificity >= 0 else 0\n",
        "\n",
        "\n",
        "    return accuracy, precision, recall, f1, gmean"
      ],
      "execution_count": 150,
      "outputs": []
    },
    {
      "cell_type": "code",
      "metadata": {
        "colab": {
          "base_uri": "https://localhost:8080/"
        },
        "id": "87f7bd36",
        "outputId": "a36a8fd9-237a-4b37-dfad-9ca47cbf20e1"
      },
      "source": [
        "n_splits = 5\n",
        "n_repeats = 3\n",
        "random_state = 42\n",
        "\n",
        "# Validacion cruzada\n",
        "rskf = RepeatedStratifiedKFold(n_splits=n_splits, n_repeats=n_repeats, random_state=random_state)\n",
        "\n",
        "print(f\"RepeatedStratifiedKFold con {n_splits} splits y {n_repeats} repeticiones.\")"
      ],
      "execution_count": 151,
      "outputs": [
        {
          "output_type": "stream",
          "name": "stdout",
          "text": [
            "RepeatedStratifiedKFold con 5 splits y 3 repeticiones.\n"
          ]
        }
      ]
    },
    {
      "cell_type": "code",
      "metadata": {
        "colab": {
          "base_uri": "https://localhost:8080/"
        },
        "id": "b8c0b5f1",
        "outputId": "248834bd-20e1-4161-9e5b-5effeefd5f83"
      },
      "source": [
        "model = LogisticRegression(max_iter=1000)\n",
        "\n",
        "full_pipeline = Pipeline(steps=[('preprocessor', preprocessor), ('classifier', model)])\n",
        "\n",
        "print(\"Pipeline definitivo \")"
      ],
      "execution_count": 152,
      "outputs": [
        {
          "output_type": "stream",
          "name": "stdout",
          "text": [
            "Pipeline definitivo \n"
          ]
        }
      ]
    },
    {
      "cell_type": "code",
      "metadata": {
        "colab": {
          "base_uri": "https://localhost:8080/"
        },
        "id": "f9204c50",
        "outputId": "2124c8e1-3e39-4dfb-bdbf-88d43425cdb7"
      },
      "source": [
        "# Variables para guardar metricas\n",
        "train_accuracy_scores = []\n",
        "val_accuracy_scores = []\n",
        "train_precision_scores = []\n",
        "val_precision_scores = []\n",
        "train_recall_scores = []\n",
        "val_recall_scores = []\n",
        "train_f1_scores = []\n",
        "val_f1_scores = []\n",
        "train_gmean_scores = []\n",
        "val_gmean_scores = []\n",
        "\n",
        "for fold, (train_index, val_index) in enumerate(rskf.split(X, Y)):\n",
        "    print(f\"Processing Fold {fold + 1}\")\n",
        "\n",
        "    X_train_fold, X_val_fold = X.iloc[train_index], X.iloc[val_index]\n",
        "    Y_train_fold, Y_val_fold = Y.iloc[train_index], Y.iloc[val_index]\n",
        "\n",
        "    full_pipeline.fit(X_train_fold, Y_train_fold)\n",
        "\n",
        "    Y_train_pred = full_pipeline.predict(X_train_fold)\n",
        "    Y_val_pred = full_pipeline.predict(X_val_fold)\n",
        "\n",
        "    train_accuracy, train_precision, train_recall, train_f1, train_gmean = calculate_metrics(Y_train_fold, Y_train_pred)\n",
        "    val_accuracy, val_precision, val_recall, val_f1, val_gmean = calculate_metrics(Y_val_fold, Y_val_pred)\n",
        "\n",
        "    # Guardar metricas\n",
        "    train_accuracy_scores.append(train_accuracy)\n",
        "    val_accuracy_scores.append(val_accuracy)\n",
        "    train_precision_scores.append(train_precision)\n",
        "    val_precision_scores.append(val_precision)\n",
        "    train_recall_scores.append(train_recall)\n",
        "    val_recall_scores.append(val_recall)\n",
        "    train_f1_scores.append(train_f1)\n",
        "    val_f1_scores.append(val_f1)\n",
        "    train_gmean_scores.append(train_gmean)\n",
        "    val_gmean_scores.append(val_gmean)\n"
      ],
      "execution_count": 153,
      "outputs": [
        {
          "output_type": "stream",
          "name": "stdout",
          "text": [
            "Processing Fold 1\n",
            "Processing Fold 2\n",
            "Processing Fold 3\n",
            "Processing Fold 4\n",
            "Processing Fold 5\n",
            "Processing Fold 6\n",
            "Processing Fold 7\n",
            "Processing Fold 8\n",
            "Processing Fold 9\n",
            "Processing Fold 10\n",
            "Processing Fold 11\n",
            "Processing Fold 12\n",
            "Processing Fold 13\n",
            "Processing Fold 14\n",
            "Processing Fold 15\n"
          ]
        }
      ]
    },
    {
      "cell_type": "code",
      "metadata": {
        "colab": {
          "base_uri": "https://localhost:8080/"
        },
        "id": "3c32d51c",
        "outputId": "4a81b121-87c0-4780-db49-f95a0c2e45ee"
      },
      "source": [
        "# Calcular desviacion estandar y promedio de los datos de entrenamiento\n",
        "mean_train_accuracy = np.mean(train_accuracy_scores)\n",
        "std_train_accuracy = np.std(train_accuracy_scores)\n",
        "mean_train_precision = np.mean(train_precision_scores)\n",
        "std_train_precision = np.std(train_precision_scores)\n",
        "mean_train_recall = np.mean(train_recall_scores)\n",
        "std_train_recall = np.std(train_recall_scores)\n",
        "mean_train_f1 = np.mean(train_f1_scores)\n",
        "std_train_f1 = np.std(train_f1_scores)\n",
        "mean_train_gmean = np.mean(train_gmean_scores)\n",
        "std_train_gmean = np.std(train_gmean_scores)\n",
        "\n",
        "# Lo mismo para valores reales\n",
        "mean_val_accuracy = np.mean(val_accuracy_scores)\n",
        "std_val_accuracy = np.std(val_accuracy_scores)\n",
        "mean_val_precision = np.mean(val_precision_scores)\n",
        "std_val_precision = np.std(val_precision_scores)\n",
        "mean_val_recall = np.mean(val_recall_scores)\n",
        "std_val_recall = np.std(val_recall_scores)\n",
        "mean_val_f1 = np.mean(val_f1_scores)\n",
        "std_val_f1 = np.std(val_f1_scores)\n",
        "mean_val_gmean = np.mean(val_gmean_scores)\n",
        "std_val_gmean = np.std(val_gmean_scores)\n",
        "\n",
        "print(\"Resultados entrenamiento (Mean ± Std Dev):\")\n",
        "print(f\"  Accuracy: {mean_train_accuracy:.4f} ± {std_train_accuracy:.4f}\")\n",
        "print(f\"  Precision: {mean_train_precision:.4f} ± {std_train_precision:.4f}\")\n",
        "print(f\"  Recall: {mean_train_recall:.4f} ± {std_train_recall:.4f}\")\n",
        "print(f\"  F1-score: {mean_train_f1:.4f} ± {std_train_f1:.4f}\")\n",
        "print(f\"  Gmean: {mean_train_gmean:.4f} ± {std_train_gmean:.4f}\")\n",
        "print(\"\\nResultados validacion (Mean ± Std Dev):\")\n",
        "print(f\"  Accuracy: {mean_val_accuracy:.4f} ± {std_val_accuracy:.4f}\")\n",
        "print(f\"  Precision: {mean_val_precision:.4f} ± {std_val_precision:.4f}\")\n",
        "print(f\"  Recall: {mean_val_recall:.4f} ± {std_val_recall:.4f}\")\n",
        "print(f\"  F1-score: {mean_val_f1:.4f} ± {std_val_f1:.4f}\")\n",
        "print(f\"  Gmean: {mean_val_gmean:.4f} ± {std_val_gmean:.4f}\")"
      ],
      "execution_count": 154,
      "outputs": [
        {
          "output_type": "stream",
          "name": "stdout",
          "text": [
            "Resultados entrenamiento (Mean ± Std Dev):\n",
            "  Accuracy: 0.7858 ± 0.0065\n",
            "  Precision: 0.8162 ± 0.0057\n",
            "  Recall: 0.8957 ± 0.0058\n",
            "  F1-score: 0.8541 ± 0.0043\n",
            "  Gmean: 0.6884 ± 0.0117\n",
            "\n",
            "Resultados validacion (Mean ± Std Dev):\n",
            "  Accuracy: 0.7547 ± 0.0177\n",
            "  Precision: 0.7978 ± 0.0194\n",
            "  Recall: 0.8714 ± 0.0304\n",
            "  F1-score: 0.8325 ± 0.0128\n",
            "  Gmean: 0.6456 ± 0.0436\n"
          ]
        }
      ]
    },
    {
      "cell_type": "code",
      "metadata": {
        "colab": {
          "base_uri": "https://localhost:8080/",
          "height": 545
        },
        "id": "1098fe3f",
        "outputId": "4e92e923-c4de-4b02-e75f-850e264bcc15"
      },
      "source": [
        "# Mostrar resultados\n",
        "recall_scores_for_plot = [train_recall_scores, val_recall_scores]\n",
        "plt.figure(figsize=(8, 6))\n",
        "sns.boxplot(data=recall_scores_for_plot)\n",
        "\n",
        "plt.xticks([0, 1], ['Recall Entrenamiento', 'Recall Validacion'])\n",
        "plt.ylabel('Recall Score')\n",
        "plt.title('Recall entre la validacion cruzada')\n",
        "\n",
        "plt.show()"
      ],
      "execution_count": 155,
      "outputs": [
        {
          "output_type": "display_data",
          "data": {
            "text/plain": [
              "<Figure size 800x600 with 1 Axes>"
            ],
            "image/png": "[encoded data removed]"
          },
          "metadata": {}
        }
      ]
    },
    {
      "cell_type": "code",
      "metadata": {
        "colab": {
          "base_uri": "https://localhost:8080/"
        },
        "id": "4cf99f3b",
        "outputId": "2e8ef1bd-4788-45b4-879c-b2bcbb495ade"
      },
      "source": [
        "# Mostrar resultados\n",
        "print(f\"Promedio del Accuracy Entrenamiento: {mean_train_accuracy:.4f} ± {std_train_accuracy:.4f}\")\n",
        "print(f\"Promedio del Accuracy Validación: {mean_val_accuracy:.4f} ± {std_val_accuracy:.4f}\")\n",
        "print(\"-\" * 30)\n",
        "print(f\"Promedio del Recall Entrenamiento: {mean_train_recall:.4f} ± {std_train_recall:.4f}\")\n",
        "print(f\"Promedio del Recall Validación: {mean_val_recall:.4f} ± {std_val_recall:.4f}\")\n",
        "print(\"-\" * 30)\n",
        "print(f\"Promedio del F1-score Entrenamiento: {mean_train_f1:.4f} ± {std_train_f1:.4f}\")\n",
        "print(f\"Promedio del F1-score Validación: {mean_val_f1:.4f} ± {std_val_f1:.4f}\")\n",
        "print(\"-\" * 30)\n",
        "print(f\"Promedio del Gmean Entrenamiento: {mean_train_gmean:.4f} ± {std_train_gmean:.4f}\")\n",
        "print(f\"Promedio del Gmean Validación: {mean_val_gmean:.4f} ± {std_val_gmean:.4f}\")\n",
        "print(\"-\" * 30)\n",
        "\n"
      ],
      "execution_count": 156,
      "outputs": [
        {
          "output_type": "stream",
          "name": "stdout",
          "text": [
            "Promedio del Accuracy Entrenamiento: 0.7858 ± 0.0065\n",
            "Promedio del Accuracy Validación: 0.7547 ± 0.0177\n",
            "------------------------------\n",
            "Promedio del Recall Entrenamiento: 0.8957 ± 0.0058\n",
            "Promedio del Recall Validación: 0.8714 ± 0.0304\n",
            "------------------------------\n",
            "Promedio del F1-score Entrenamiento: 0.8541 ± 0.0043\n",
            "Promedio del F1-score Validación: 0.8325 ± 0.0128\n",
            "------------------------------\n",
            "Promedio del Gmean Entrenamiento: 0.6884 ± 0.0117\n",
            "Promedio del Gmean Validación: 0.6456 ± 0.0436\n",
            "------------------------------\n"
          ]
        }
      ]
    },
    {
      "cell_type": "markdown",
      "source": [
        "La precisión del entrenamiento es significativamente mayor que la de la validación. Por otro lado la recuperación del entrenamiento y la validación son relativamente similares, y la puntuación F1 del entrenamiento es significativamente mayor que la de la validación.\n",
        "\n",
        "Estos nos lleva a que el rendimiento del modelo en los conjuntos de entrenamiento y validación es relativamente consistente. Ya que las métricas de rendimiento en los conjuntos de entrenamiento y validación son similares, lo que sugiere que el modelo se generaliza razonablemente bien. Puede haber una ligera diferencia, pero esto no indica un sobreajuste o subajuste grave según los umbrales elegidos."
      ],
      "metadata": {
        "id": "_hL-fjX6hNK_"
      }
    }
  ]
}