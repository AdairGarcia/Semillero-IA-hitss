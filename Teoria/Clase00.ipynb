{
  "nbformat": 4,
  "nbformat_minor": 0,
  "metadata": {
    "colab": {
      "provenance": [],
      "toc_visible": true,
      "authorship_tag": "ABX9TyNbUPnglKp2TQKBOCU24ax0",
      "include_colab_link": true
    },
    "kernelspec": {
      "name": "python3",
      "display_name": "Python 3"
    },
    "language_info": {
      "name": "python"
    }
  },
  "cells": [
    {
      "cell_type": "markdown",
      "metadata": {
        "id": "view-in-github",
        "colab_type": "text"
      },
      "source": [
        "<a href=\"https://colab.research.google.com/github/AdairGarcia/Semillero-IA-hitss/blob/main/Teoria/Clase00.ipynb\" target=\"_parent\"><img src=\"https://colab.research.google.com/assets/colab-badge.svg\" alt=\"Open In Colab\"/></a>"
      ]
    },
    {
      "cell_type": "markdown",
      "source": [
        "# Resumen - Clase 00"
      ],
      "metadata": {
        "id": "Fj4RNObS1Jm3"
      }
    },
    {
      "cell_type": "markdown",
      "source": [
        "## Introducción a la Inteligencia Artificial\n",
        "\n",
        ">Definición\n",
        "\n",
        "Hay una dificultad para establecer una definición única para lo que es la IA. Pero a grandes razgos, la podemos englobar en que la IA es cualquier tecnología que busca imitar las acciones o actividades del ser humano.\n",
        "\n",
        ">Campos de estudio\n",
        "\n",
        "Podemos desglozar la IA en varios conjuntos que estan relacionados entre si, donde la Inteligencia Artificial es el campo de estudio más amplio, que a su vez engloba al Machine Learning.\n",
        "\n",
        ">>Machine Learning\n",
        "\n",
        "Se define como una rama que permite a los algoritmos aprender y mejorar a partir de datos y experiencia sin programación explícita, con aplicaciones en clasificación y regresión.\n",
        "\n",
        ">>>Deep Learning\n",
        "\n",
        "Dentro del Machine Learning se encuentra el Deep Learning, que utiliza redes neuronales inspiradas en el cerebro humano. Que ofrece  ventajas en tareas complejas como el procesamiento de imágenes y lenguaje, pero que a su vez, también presenta desventajas, como su alto costo y la necesidad de un cómputo intensivo."
      ],
      "metadata": {
        "id": "9kfRfKMk1NIQ"
      }
    },
    {
      "cell_type": "markdown",
      "source": [],
      "metadata": {
        "id": "Azy7UfBg5NG9"
      }
    },
    {
      "cell_type": "markdown",
      "source": [
        "## Proyecto\n",
        "Pipeline de Clasificación Automática de Documentos\n",
        "Consiste en desarrollar un sistema inteligente que procese documentos empresariales de forma automática, clasificándolos por tipo y extrayendo información relevante sin intervención manual."
      ],
      "metadata": {
        "id": "RsfrAQj25Qld"
      }
    }
  ]
}